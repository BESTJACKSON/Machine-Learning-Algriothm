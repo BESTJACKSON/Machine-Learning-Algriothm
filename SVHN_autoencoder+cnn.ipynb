{
 "cells": [
  {
   "cell_type": "code",
   "execution_count": 1,
   "metadata": {
    "scrolled": true
   },
   "outputs": [
    {
     "name": "stdout",
     "output_type": "stream",
     "text": [
      "dict_keys(['y', '__version__', '__globals__', 'X', '__header__'])\n",
      "dict_keys(['y', '__version__', '__globals__', 'X', '__header__'])\n",
      "x_train shape: (73257, 32, 32, 3)\n",
      "y_train shape: (73257, 1)\n",
      "73257 train samples\n",
      "26032 test samples\n"
     ]
    }
   ],
   "source": [
    "import scipy.io as sio \n",
    "import warnings\n",
    "warnings.filterwarnings('ignore')\n",
    "\n",
    "train = sio.loadmat('./train.mat')\n",
    "test = sio.loadmat('./test.mat')\n",
    "print(train.keys())\n",
    "print(test.keys())\n",
    "\n",
    "\n",
    "x_train = train['X'].swapaxes(0,3).swapaxes(2,3).swapaxes(1,2)\n",
    "y_train = train['y']\n",
    "x_test = test['X'].swapaxes(0,3).swapaxes(2,3).swapaxes(1,2)\n",
    "y_test = test['y']\n",
    "\n",
    "print('x_train shape:', x_train.shape)\n",
    "print('y_train shape:', y_train.shape)\n",
    "print(x_train.shape[0], 'train samples')\n",
    "print(x_test.shape[0], 'test samples')"
   ]
  },
  {
   "cell_type": "code",
   "execution_count": 2,
   "metadata": {},
   "outputs": [
    {
     "name": "stdout",
     "output_type": "stream",
     "text": [
      "x_train shape: (73257, 32, 32)\n",
      "x_test shape: (26032, 32, 32)\n"
     ]
    }
   ],
   "source": [
    "y_train[y_train== 10] = 0\n",
    "y_test[y_test== 10] = 0\n",
    "\n",
    "x_train = x_train[:,:,:,0]\n",
    "x_test = x_test[:,:,:,0]\n",
    "\n",
    "# img_rows = 32\n",
    "# img_cols = 32\n",
    "\n",
    "# x_train = x_train.reshape(x_train.shape[0], img_rows, img_cols, 1)\n",
    "# x_test = x_test.reshape(x_test.shape[0], img_rows, img_cols, 1)\n",
    "\n",
    "\n",
    "x_train = x_train.astype('float32') / 255.\n",
    "x_test = x_test.astype('float32') / 255.\n",
    "\n",
    "print('x_train shape:', x_train.shape)\n",
    "print('x_test shape:', x_test.shape)"
   ]
  },
  {
   "cell_type": "code",
   "execution_count": 3,
   "metadata": {},
   "outputs": [
    {
     "name": "stderr",
     "output_type": "stream",
     "text": [
      "Using TensorFlow backend.\n"
     ]
    }
   ],
   "source": [
    "from keras.layers import Input, Dense\n",
    "from keras.models import Model\n",
    "\n",
    "import warnings\n",
    "warnings.filterwarnings('ignore')\n",
    "# this is the size of our encoded representations\n",
    "encoding_dim = 64  \n",
    "\n",
    "# this is our input placeholder\n",
    "input_img = Input(shape=(1024,))\n",
    "# \"encoded\" is the encoded representation of the input\n",
    "encoded = Dense(encoding_dim, activation='relu')(input_img)\n",
    "# \"decoded\" is the lossy reconstruction of the input\n",
    "decoded = Dense(1024, activation='sigmoid')(encoded)\n",
    "\n",
    "# this model maps an input to its reconstruction\n",
    "autoencoder = Model(input=input_img, output=decoded)"
   ]
  },
  {
   "cell_type": "code",
   "execution_count": 4,
   "metadata": {},
   "outputs": [],
   "source": [
    "# this model maps an input to its encoded representation\n",
    "encoder = Model(input=input_img, output=encoded)\n",
    "\n",
    "# create a placeholder for an encoded (32-dimensional) input\n",
    "encoded_input = Input(shape=(encoding_dim,))\n",
    "\n",
    "# retrieve the last layer of the autoencoder model\n",
    "decoder_layer = autoencoder.layers[-1]\n",
    "\n",
    "# create the decoder model\n",
    "decoder = Model(input=encoded_input, output=decoder_layer(encoded_input))"
   ]
  },
  {
   "cell_type": "code",
   "execution_count": 5,
   "metadata": {},
   "outputs": [],
   "source": [
    "autoencoder.compile(optimizer='adadelta', loss='binary_crossentropy')"
   ]
  },
  {
   "cell_type": "code",
   "execution_count": 6,
   "metadata": {},
   "outputs": [
    {
     "name": "stdout",
     "output_type": "stream",
     "text": [
      "Train on 73257 samples, validate on 26032 samples\n",
      "Epoch 1/20\n",
      "73257/73257 [==============================] - 1s 20us/step - loss: 0.6926 - val_loss: 0.6922\n",
      "Epoch 2/20\n",
      "73257/73257 [==============================] - 1s 9us/step - loss: 0.6912 - val_loss: 0.6909\n",
      "Epoch 3/20\n",
      "73257/73257 [==============================] - 1s 9us/step - loss: 0.6894 - val_loss: 0.6881\n",
      "Epoch 4/20\n",
      "73257/73257 [==============================] - 1s 8us/step - loss: 0.6861 - val_loss: 0.6828\n",
      "Epoch 5/20\n",
      "73257/73257 [==============================] - 1s 9us/step - loss: 0.6816 - val_loss: 0.6767\n",
      "Epoch 6/20\n",
      "73257/73257 [==============================] - 1s 9us/step - loss: 0.6774 - val_loss: 0.6706\n",
      "Epoch 7/20\n",
      "73257/73257 [==============================] - 1s 9us/step - loss: 0.6724 - val_loss: 0.6593\n",
      "Epoch 8/20\n",
      "73257/73257 [==============================] - 1s 9us/step - loss: 0.6639 - val_loss: 0.6470\n",
      "Epoch 9/20\n",
      "73257/73257 [==============================] - 1s 9us/step - loss: 0.6542 - val_loss: 0.6369\n",
      "Epoch 10/20\n",
      "73257/73257 [==============================] - 1s 9us/step - loss: 0.6442 - val_loss: 0.6256\n",
      "Epoch 11/20\n",
      "73257/73257 [==============================] - 1s 9us/step - loss: 0.6368 - val_loss: 0.6243\n",
      "Epoch 12/20\n",
      "73257/73257 [==============================] - 1s 9us/step - loss: 0.6361 - val_loss: 0.6147\n",
      "Epoch 13/20\n",
      "73257/73257 [==============================] - 1s 9us/step - loss: 0.6339 - val_loss: 0.6167\n",
      "Epoch 14/20\n",
      "73257/73257 [==============================] - 1s 9us/step - loss: 0.6320 - val_loss: 0.6128\n",
      "Epoch 15/20\n",
      "73257/73257 [==============================] - 1s 9us/step - loss: 0.6307 - val_loss: 0.6152\n",
      "Epoch 16/20\n",
      "73257/73257 [==============================] - 1s 9us/step - loss: 0.6295 - val_loss: 0.6109\n",
      "Epoch 17/20\n",
      "73257/73257 [==============================] - 1s 9us/step - loss: 0.6282 - val_loss: 0.6104\n",
      "Epoch 18/20\n",
      "73257/73257 [==============================] - 1s 9us/step - loss: 0.6271 - val_loss: 0.6144\n",
      "Epoch 19/20\n",
      "73257/73257 [==============================] - 1s 9us/step - loss: 0.6261 - val_loss: 0.6107\n",
      "Epoch 20/20\n",
      "73257/73257 [==============================] - 1s 9us/step - loss: 0.6250 - val_loss: 0.6092\n"
     ]
    },
    {
     "data": {
      "text/plain": [
       "<keras.callbacks.History at 0x7f2e1fdeae10>"
      ]
     },
     "execution_count": 6,
     "metadata": {},
     "output_type": "execute_result"
    }
   ],
   "source": [
    "from keras.datasets import mnist\n",
    "import numpy as np\n",
    "\n",
    "x_train = x_train.reshape((len(x_train), np.prod(x_train.shape[1:])))\n",
    "x_test = x_test.reshape((len(x_test), np.prod(x_test.shape[1:])))\n",
    "\n",
    "autoencoder.fit(x_train, x_train,\n",
    "                nb_epoch=20,\n",
    "                batch_size=256,\n",
    "                shuffle=True,\n",
    "                validation_data=(x_test, x_test))"
   ]
  },
  {
   "cell_type": "code",
   "execution_count": 7,
   "metadata": {},
   "outputs": [
    {
     "data": {
      "image/png": "[encoded data removed]",
      "text/plain": [
       "<Figure size 1440x288 with 20 Axes>"
      ]
     },
     "metadata": {
      "needs_background": "light"
     },
     "output_type": "display_data"
    }
   ],
   "source": [
    "\n",
    "import matplotlib.pyplot as plt\n",
    "%matplotlib inline\n",
    "\n",
    "x_train_decoder = autoencoder.predict(x_train)\n",
    "x_test_decoder = autoencoder.predict(x_test)\n",
    "\n",
    "n = 10  \n",
    "plt.figure(figsize=(20, 4))\n",
    "for i in range(n):\n",
    "    # display original\n",
    "    ax = plt.subplot(2,n,i+1)\n",
    "    plt.imshow(x_train[i].reshape(32, 32))\n",
    "    plt.gray()\n",
    "    ax.get_xaxis().set_visible(False)\n",
    "    ax.get_yaxis().set_visible(False)\n",
    "\n",
    "    # display reconstruction\n",
    "    ax = plt.subplot(2,n,i+1+n)\n",
    "    plt.imshow(x_train_decoder[i].reshape(32, 32))\n",
    "    plt.gray()\n",
    "    ax.get_xaxis().set_visible(False)\n",
    "    ax.get_yaxis().set_visible(False)\n",
    "plt.show()"
   ]
  },
  {
   "cell_type": "code",
   "execution_count": 8,
   "metadata": {},
   "outputs": [
    {
     "name": "stdout",
     "output_type": "stream",
     "text": [
      "(73257, 32, 32, 1) (26032, 32, 32, 1)\n"
     ]
    }
   ],
   "source": [
    "x_train_decoder = x_train_decoder.reshape(len(x_train_decoder),32,32,1)\n",
    "x_test_decoder = x_test_decoder.reshape(len(x_test_decoder),32,32,1)\n",
    "\n",
    "print(x_train_decoder.shape,x_test_decoder.shape)"
   ]
  },
  {
   "cell_type": "code",
   "execution_count": 9,
   "metadata": {},
   "outputs": [],
   "source": [
    "import keras\n",
    "from keras.models import Sequential\n",
    "from keras.layers import Dense, Dropout, Activation, Flatten\n",
    "from keras.layers import Conv2D, MaxPooling2D\n",
    "import os\n",
    "import warnings\n",
    "warnings.filterwarnings('ignore')\n",
    "\n",
    "batch_size = 32\n",
    "num_classes = 10\n",
    "epochs = 10"
   ]
  },
  {
   "cell_type": "code",
   "execution_count": 10,
   "metadata": {},
   "outputs": [
    {
     "name": "stdout",
     "output_type": "stream",
     "text": [
      "y_train shape: (73257, 10)\n",
      "y_test shape: (26032, 10)\n"
     ]
    }
   ],
   "source": [
    "num_classes = 10\n",
    "\n",
    "y_train = keras.utils.to_categorical(y_train, num_classes)\n",
    "y_test = keras.utils.to_categorical(y_test, num_classes)\n",
    "\n",
    "print('y_train shape:', y_train.shape)\n",
    "print('y_test shape:', y_test.shape)"
   ]
  },
  {
   "cell_type": "code",
   "execution_count": 11,
   "metadata": {},
   "outputs": [],
   "source": [
    "model = Sequential()\n",
    "model.add(Conv2D(32, (3, 3), padding='same',\n",
    "                 input_shape=x_train_decoder.shape[1:]))\n",
    "model.add(Activation('relu'))\n",
    "model.add(Conv2D(32, (3, 3)))\n",
    "model.add(Activation('relu'))\n",
    "model.add(MaxPooling2D(pool_size=(2, 2)))\n",
    "model.add(Dropout(0.25))\n",
    "\n",
    "model.add(Conv2D(64, (3, 3), padding='same'))\n",
    "model.add(Activation('relu'))\n",
    "model.add(Conv2D(64, (3, 3)))\n",
    "model.add(Activation('relu'))\n",
    "model.add(MaxPooling2D(pool_size=(2, 2)))\n",
    "model.add(Dropout(0.25))\n",
    "\n",
    "model.add(Flatten())\n",
    "model.add(Dense(512))\n",
    "model.add(Activation('relu'))\n",
    "model.add(Dropout(0.5))\n",
    "model.add(Dense(num_classes))\n",
    "model.add(Activation('softmax'))\n",
    "\n",
    "# initiate RMSprop optimizer\n",
    "opt = keras.optimizers.RMSprop(lr=0.0001, decay=1e-6)\n",
    "\n",
    "# Let's train the model using RMSprop\n",
    "model.compile(loss='categorical_crossentropy',\n",
    "              optimizer=opt,\n",
    "              metrics=['accuracy'])\n"
   ]
  },
  {
   "cell_type": "code",
   "execution_count": 12,
   "metadata": {},
   "outputs": [],
   "source": [
    "#写一个LossHistory类，保存loss和acc\n",
    "class LossHistory(keras.callbacks.Callback):\n",
    "    def on_train_begin(self, logs={}):\n",
    "        self.losses = {'batch':[], 'epoch':[]}\n",
    "        self.accuracy = {'batch':[], 'epoch':[]}\n",
    "        self.val_loss = {'batch':[], 'epoch':[]}\n",
    "        self.val_acc = {'batch':[], 'epoch':[]}\n",
    "\n",
    "    def on_batch_end(self, batch, logs={}):\n",
    "        self.losses['batch'].append(logs.get('loss'))\n",
    "        self.accuracy['batch'].append(logs.get('acc'))\n",
    "        self.val_loss['batch'].append(logs.get('val_loss'))\n",
    "        self.val_acc['batch'].append(logs.get('val_acc'))\n",
    "\n",
    "    def on_epoch_end(self, batch, logs={}):\n",
    "        self.losses['epoch'].append(logs.get('loss'))\n",
    "        self.accuracy['epoch'].append(logs.get('acc'))\n",
    "        self.val_loss['epoch'].append(logs.get('val_loss'))\n",
    "        self.val_acc['epoch'].append(logs.get('val_acc'))\n",
    "\n",
    "    def loss_plot(self, loss_type):\n",
    "        iters = range(len(self.losses[loss_type]))\n",
    "        plt.figure()\n",
    "        # acc\n",
    "        plt.plot(iters, self.accuracy[loss_type], 'r', label='train acc')\n",
    "        # loss\n",
    "        plt.plot(iters, self.losses[loss_type], 'g', label='train loss')\n",
    "        if loss_type == 'epoch':\n",
    "            # val_acc\n",
    "            plt.plot(iters, self.val_acc[loss_type], 'b', label='val acc')\n",
    "            # val_loss\n",
    "            plt.plot(iters, self.val_loss[loss_type], 'k', label='val loss')\n",
    "        plt.grid(True)\n",
    "        plt.xlabel(loss_type)\n",
    "        plt.ylabel('acc-loss')\n",
    "        plt.legend(loc=\"upper right\")\n",
    "        plt.show()"
   ]
  },
  {
   "cell_type": "code",
   "execution_count": 13,
   "metadata": {
    "scrolled": true
   },
   "outputs": [
    {
     "name": "stdout",
     "output_type": "stream",
     "text": [
      "WARNING:tensorflow:Variable *= will be deprecated. Use `var.assign(var * other)` if you want assignment to the variable value or `x = x * y` if you want a new python Tensor object.\n",
      "Train on 73257 samples, validate on 26032 samples\n",
      "Epoch 1/10\n",
      "73257/73257 [==============================] - 11s 145us/step - loss: 2.2414 - acc: 0.1891 - val_loss: 2.2256 - val_acc: 0.1959\n",
      "Epoch 2/10\n",
      "73257/73257 [==============================] - 9s 128us/step - loss: 2.2393 - acc: 0.1892 - val_loss: 2.2266 - val_acc: 0.1959\n",
      "Epoch 3/10\n",
      "73257/73257 [==============================] - 9s 127us/step - loss: 2.2388 - acc: 0.1892 - val_loss: 2.2252 - val_acc: 0.1959\n",
      "Epoch 4/10\n",
      "73257/73257 [==============================] - 9s 127us/step - loss: 2.2381 - acc: 0.1892 - val_loss: 2.2248 - val_acc: 0.1959\n",
      "Epoch 5/10\n",
      "73257/73257 [==============================] - 9s 126us/step - loss: 2.2377 - acc: 0.1892 - val_loss: 2.2253 - val_acc: 0.1959\n",
      "Epoch 6/10\n",
      "73257/73257 [==============================] - 9s 128us/step - loss: 2.2379 - acc: 0.1892 - val_loss: 2.2234 - val_acc: 0.1959\n",
      "Epoch 7/10\n",
      "73257/73257 [==============================] - 9s 128us/step - loss: 2.2376 - acc: 0.1892 - val_loss: 2.2253 - val_acc: 0.1959\n",
      "Epoch 8/10\n",
      "73257/73257 [==============================] - 9s 128us/step - loss: 2.2378 - acc: 0.1892 - val_loss: 2.2244 - val_acc: 0.1959\n",
      "Epoch 9/10\n",
      "73257/73257 [==============================] - 9s 129us/step - loss: 2.2374 - acc: 0.1892 - val_loss: 2.2238 - val_acc: 0.1959\n",
      "Epoch 10/10\n",
      "73257/73257 [==============================] - 9s 127us/step - loss: 2.2378 - acc: 0.1892 - val_loss: 2.2242 - val_acc: 0.1959\n",
      "26032/26032 [==============================] - 1s 35us/step\n",
      "Test loss: 2.224190820853404\n",
      "Test accuracy: 0.1958743085433313\n"
     ]
    }
   ],
   "source": [
    "x_train_decoder = x_train_decoder.astype('float32')\n",
    "x_test_decoder = x_test_decoder.astype('float32')\n",
    "x_train_decoder /= 255\n",
    "x_test_decoder /= 255\n",
    "\n",
    "history = LossHistory()\n",
    "\n",
    "model.fit(x_train_decoder, y_train,\n",
    "          batch_size=batch_size,\n",
    "          epochs=epochs,\n",
    "          validation_data=(x_test_decoder, y_test),\n",
    "          shuffle=True,\n",
    "         callbacks=[history])\n",
    "\n",
    "# Score trained model.\n",
    "scores = model.evaluate(x_test_decoder, y_test, verbose=1)\n",
    "print('Test loss:', scores[0])\n",
    "print('Test accuracy:', scores[1])\n"
   ]
  },
  {
   "cell_type": "code",
   "execution_count": 14,
   "metadata": {},
   "outputs": [
    {
     "data": {
      "image/png": "[encoded data removed]",
      "text/plain": [
       "<Figure size 432x288 with 1 Axes>"
      ]
     },
     "metadata": {
      "needs_background": "light"
     },
     "output_type": "display_data"
    }
   ],
   "source": [
    "import matplotlib.pyplot as plt\n",
    "%matplotlib inline\n",
    "\n",
    "history.loss_plot('epoch')"
   ]
  }
 ],
 "metadata": {
  "kernelspec": {
   "display_name": "Python 3",
   "language": "python",
   "name": "python3"
  },
  "language_info": {
   "codemirror_mode": {
    "name": "ipython",
    "version": 3
   },
   "file_extension": ".py",
   "mimetype": "text/x-python",
   "name": "python",
   "nbconvert_exporter": "python",
   "pygments_lexer": "ipython3",
   "version": "3.7.3"
  }
 },
 "nbformat": 4,
 "nbformat_minor": 4
}
