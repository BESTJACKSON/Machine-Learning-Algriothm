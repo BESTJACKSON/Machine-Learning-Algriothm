{
 "cells": [
  {
   "cell_type": "code",
   "execution_count": 25,
   "metadata": {
    "scrolled": true
   },
   "outputs": [
    {
     "name": "stdout",
     "output_type": "stream",
     "text": [
      "dict_keys(['y', '__version__', 'X', '__header__', '__globals__'])\n",
      "dict_keys(['y', '__version__', 'X', '__header__', '__globals__'])\n"
     ]
    }
   ],
   "source": [
    "import scipy.io as sio \n",
    "import warnings\n",
    "warnings.filterwarnings('ignore')\n",
    "\n",
    "train = sio.loadmat('./train.mat')\n",
    "test = sio.loadmat('./test.mat')\n",
    "print(train.keys())\n",
    "print(test.keys())\n"
   ]
  },
  {
   "cell_type": "code",
   "execution_count": 26,
   "metadata": {
    "scrolled": true
   },
   "outputs": [
    {
     "name": "stdout",
     "output_type": "stream",
     "text": [
      "x_train shape: (73257, 32, 32, 3)\n",
      "y_train shape: (73257, 1)\n",
      "73257 train samples\n",
      "26032 test samples\n"
     ]
    }
   ],
   "source": [
    "x_train = train['X'].swapaxes(0,3).swapaxes(2,3).swapaxes(1,2)\n",
    "y_train = train['y']\n",
    "x_test = test['X'].swapaxes(0,3).swapaxes(2,3).swapaxes(1,2)\n",
    "y_test = test['y']\n",
    "\n",
    "print('x_train shape:', x_train.shape)\n",
    "print('y_train shape:', y_train.shape)\n",
    "print(x_train.shape[0], 'train samples')\n",
    "print(x_test.shape[0], 'test samples')"
   ]
  },
  {
   "cell_type": "code",
   "execution_count": 27,
   "metadata": {},
   "outputs": [],
   "source": [
    "y_train[y_train== 10] = 0\n",
    "y_test[y_test== 10] = 0"
   ]
  },
  {
   "cell_type": "code",
   "execution_count": 28,
   "metadata": {},
   "outputs": [
    {
     "name": "stdout",
     "output_type": "stream",
     "text": [
      "x_train shape: (73257, 32, 32, 1)\n",
      "x_test shape: (73257, 32, 32, 1)\n"
     ]
    }
   ],
   "source": [
    "# 使用一个通道训练模型，方便接PCA\n",
    "x_train = x_train[:,:,:,0]\n",
    "x_test = x_test[:,:,:,0]\n",
    "\n",
    "img_rows = 32\n",
    "img_cols = 32\n",
    "\n",
    "x_train = x_train.reshape(x_train.shape[0], img_rows, img_cols, 1)\n",
    "x_test = x_test.reshape(x_test.shape[0], img_rows, img_cols, 1)\n",
    "\n",
    "print('x_train shape:', x_train.shape)\n",
    "print('x_test shape:', x_train.shape)\n"
   ]
  },
  {
   "cell_type": "code",
   "execution_count": 29,
   "metadata": {},
   "outputs": [],
   "source": [
    "import keras\n",
    "from keras.models import Sequential\n",
    "from keras.layers import Dense, Dropout, Activation, Flatten\n",
    "from keras.layers import Conv2D, MaxPooling2D\n",
    "import os\n",
    "import warnings\n",
    "warnings.filterwarnings('ignore')\n",
    "\n",
    "batch_size = 32\n",
    "num_classes = 10\n",
    "epochs = 20"
   ]
  },
  {
   "cell_type": "code",
   "execution_count": 30,
   "metadata": {},
   "outputs": [
    {
     "name": "stdout",
     "output_type": "stream",
     "text": [
      "y_train shape: (73257, 10)\n",
      "y_test shape: (26032, 10)\n"
     ]
    }
   ],
   "source": [
    "num_classes = 10\n",
    "\n",
    "y_train = keras.utils.to_categorical(y_train, num_classes)\n",
    "y_test = keras.utils.to_categorical(y_test, num_classes)\n",
    "\n",
    "print('y_train shape:', y_train.shape)\n",
    "print('y_test shape:', y_test.shape)"
   ]
  },
  {
   "cell_type": "code",
   "execution_count": 31,
   "metadata": {},
   "outputs": [],
   "source": [
    "model = Sequential()\n",
    "model.add(Conv2D(32, (3, 3), padding='same',\n",
    "                 input_shape=x_train.shape[1:]))\n",
    "model.add(Activation('relu'))\n",
    "model.add(Conv2D(32, (3, 3)))\n",
    "model.add(Activation('relu'))\n",
    "model.add(MaxPooling2D(pool_size=(2, 2)))\n",
    "model.add(Dropout(0.25))\n",
    "\n",
    "model.add(Conv2D(64, (3, 3), padding='same'))\n",
    "model.add(Activation('relu'))\n",
    "model.add(Conv2D(64, (3, 3)))\n",
    "model.add(Activation('relu'))\n",
    "model.add(MaxPooling2D(pool_size=(2, 2)))\n",
    "model.add(Dropout(0.25))\n",
    "\n",
    "model.add(Flatten())\n",
    "model.add(Dense(512))\n",
    "model.add(Activation('relu'))\n",
    "model.add(Dropout(0.5))\n",
    "model.add(Dense(num_classes))\n",
    "model.add(Activation('softmax'))\n",
    "\n",
    "# initiate RMSprop optimizer\n",
    "opt = keras.optimizers.RMSprop(lr=0.0001, decay=1e-6)\n",
    "\n",
    "# Let's train the model using RMSprop\n",
    "model.compile(loss='categorical_crossentropy',\n",
    "              optimizer=opt,\n",
    "              metrics=['accuracy'])\n"
   ]
  },
  {
   "cell_type": "code",
   "execution_count": 32,
   "metadata": {},
   "outputs": [],
   "source": [
    "#写一个LossHistory类，保存loss和acc\n",
    "class LossHistory(keras.callbacks.Callback):\n",
    "    def on_train_begin(self, logs={}):\n",
    "        self.losses = {'batch':[], 'epoch':[]}\n",
    "        self.accuracy = {'batch':[], 'epoch':[]}\n",
    "        self.val_loss = {'batch':[], 'epoch':[]}\n",
    "        self.val_acc = {'batch':[], 'epoch':[]}\n",
    "\n",
    "    def on_batch_end(self, batch, logs={}):\n",
    "        self.losses['batch'].append(logs.get('loss'))\n",
    "        self.accuracy['batch'].append(logs.get('acc'))\n",
    "        self.val_loss['batch'].append(logs.get('val_loss'))\n",
    "        self.val_acc['batch'].append(logs.get('val_acc'))\n",
    "\n",
    "    def on_epoch_end(self, batch, logs={}):\n",
    "        self.losses['epoch'].append(logs.get('loss'))\n",
    "        self.accuracy['epoch'].append(logs.get('acc'))\n",
    "        self.val_loss['epoch'].append(logs.get('val_loss'))\n",
    "        self.val_acc['epoch'].append(logs.get('val_acc'))\n",
    "\n",
    "    def loss_plot(self, loss_type):\n",
    "        iters = range(len(self.losses[loss_type]))\n",
    "        plt.figure()\n",
    "        # acc\n",
    "        plt.plot(iters, self.accuracy[loss_type], 'r', label='train acc')\n",
    "        # loss\n",
    "        plt.plot(iters, self.losses[loss_type], 'g', label='train loss')\n",
    "        if loss_type == 'epoch':\n",
    "            # val_acc\n",
    "            plt.plot(iters, self.val_acc[loss_type], 'b', label='val acc')\n",
    "            # val_loss\n",
    "            plt.plot(iters, self.val_loss[loss_type], 'k', label='val loss')\n",
    "        plt.grid(True)\n",
    "        plt.xlabel(loss_type)\n",
    "        plt.ylabel('acc-loss')\n",
    "        plt.legend(loc=\"upper right\")\n",
    "        plt.show()"
   ]
  },
  {
   "cell_type": "code",
   "execution_count": 33,
   "metadata": {
    "scrolled": true
   },
   "outputs": [
    {
     "name": "stdout",
     "output_type": "stream",
     "text": [
      "Train on 73257 samples, validate on 26032 samples\n",
      "Epoch 1/20\n",
      "73257/73257 [==============================] - 11s 149us/step - loss: 1.5890 - acc: 0.4585 - val_loss: 1.2043 - val_acc: 0.6091\n",
      "Epoch 2/20\n",
      "73257/73257 [==============================] - 10s 141us/step - loss: 0.8588 - acc: 0.7321 - val_loss: 0.6789 - val_acc: 0.8074\n",
      "Epoch 3/20\n",
      "73257/73257 [==============================] - 10s 141us/step - loss: 0.6283 - acc: 0.8091 - val_loss: 0.5432 - val_acc: 0.8427\n",
      "Epoch 4/20\n",
      "73257/73257 [==============================] - 10s 141us/step - loss: 0.5415 - acc: 0.8372 - val_loss: 0.4773 - val_acc: 0.8603\n",
      "Epoch 5/20\n",
      "73257/73257 [==============================] - 10s 141us/step - loss: 0.4932 - acc: 0.8524 - val_loss: 0.4551 - val_acc: 0.8649\n",
      "Epoch 6/20\n",
      "73257/73257 [==============================] - 10s 141us/step - loss: 0.4578 - acc: 0.8628 - val_loss: 0.4206 - val_acc: 0.8778\n",
      "Epoch 7/20\n",
      "73257/73257 [==============================] - 10s 141us/step - loss: 0.4329 - acc: 0.8697 - val_loss: 0.4048 - val_acc: 0.8815\n",
      "Epoch 8/20\n",
      "73257/73257 [==============================] - 10s 141us/step - loss: 0.4157 - acc: 0.8763 - val_loss: 0.3890 - val_acc: 0.8891\n",
      "Epoch 9/20\n",
      "73257/73257 [==============================] - 10s 141us/step - loss: 0.3984 - acc: 0.8814 - val_loss: 0.3778 - val_acc: 0.8896\n",
      "Epoch 10/20\n",
      "73257/73257 [==============================] - 10s 141us/step - loss: 0.3890 - acc: 0.8842 - val_loss: 0.3795 - val_acc: 0.8886\n",
      "Epoch 11/20\n",
      "73257/73257 [==============================] - 10s 141us/step - loss: 0.3812 - acc: 0.8870 - val_loss: 0.3950 - val_acc: 0.8972\n",
      "Epoch 12/20\n",
      "73257/73257 [==============================] - 10s 141us/step - loss: 0.3728 - acc: 0.8909 - val_loss: 0.3616 - val_acc: 0.8945\n",
      "Epoch 13/20\n",
      "73257/73257 [==============================] - 10s 141us/step - loss: 0.3710 - acc: 0.8911 - val_loss: 0.3428 - val_acc: 0.9010\n",
      "Epoch 14/20\n",
      "73257/73257 [==============================] - 10s 141us/step - loss: 0.3624 - acc: 0.8933 - val_loss: 0.3429 - val_acc: 0.9007\n",
      "Epoch 15/20\n",
      "73257/73257 [==============================] - 10s 141us/step - loss: 0.3582 - acc: 0.8935 - val_loss: 0.3379 - val_acc: 0.9032\n",
      "Epoch 16/20\n",
      "73257/73257 [==============================] - 10s 141us/step - loss: 0.3583 - acc: 0.8955 - val_loss: 0.3238 - val_acc: 0.9057\n",
      "Epoch 17/20\n",
      "73257/73257 [==============================] - 10s 141us/step - loss: 0.3523 - acc: 0.8980 - val_loss: 0.3781 - val_acc: 0.8956\n",
      "Epoch 18/20\n",
      "73257/73257 [==============================] - 10s 141us/step - loss: 0.3537 - acc: 0.8967 - val_loss: 0.3258 - val_acc: 0.9038\n",
      "Epoch 19/20\n",
      "73257/73257 [==============================] - 10s 141us/step - loss: 0.3507 - acc: 0.8997 - val_loss: 0.3822 - val_acc: 0.9021\n",
      "Epoch 20/20\n",
      "73257/73257 [==============================] - 10s 141us/step - loss: 0.3485 - acc: 0.8989 - val_loss: 0.3823 - val_acc: 0.9103\n",
      "26032/26032 [==============================] - 1s 46us/step\n",
      "Test loss: 0.38226039063805956\n",
      "Test accuracy: 0.9103027043638598\n"
     ]
    }
   ],
   "source": [
    "x_train = x_train.astype('float32')\n",
    "x_test = x_test.astype('float32')\n",
    "x_train /= 255\n",
    "x_test /= 255\n",
    "\n",
    "history = LossHistory()\n",
    "\n",
    "model.fit(x_train, y_train,\n",
    "          batch_size=batch_size,\n",
    "          epochs=epochs,\n",
    "          validation_data=(x_test, y_test),\n",
    "          shuffle=True,\n",
    "         callbacks=[history])\n",
    "\n",
    "# Score trained model.\n",
    "scores = model.evaluate(x_test, y_test, verbose=1)\n",
    "print('Test loss:', scores[0])\n",
    "print('Test accuracy:', scores[1])\n"
   ]
  },
  {
   "cell_type": "code",
   "execution_count": 35,
   "metadata": {},
   "outputs": [
    {
     "data": {
      "image/png": "[encoded data removed]",
      "text/plain": [
       "<Figure size 432x288 with 1 Axes>"
      ]
     },
     "metadata": {
      "needs_background": "light"
     },
     "output_type": "display_data"
    }
   ],
   "source": [
    "import matplotlib.pyplot as plt\n",
    "%matplotlib inline\n",
    "\n",
    "history.loss_plot('epoch')"
   ]
  },
  {
   "cell_type": "code",
   "execution_count": null,
   "metadata": {},
   "outputs": [],
   "source": []
  }
 ],
 "metadata": {
  "kernelspec": {
   "display_name": "Python 3",
   "language": "python",
   "name": "python3"
  },
  "language_info": {
   "codemirror_mode": {
    "name": "ipython",
    "version": 3
   },
   "file_extension": ".py",
   "mimetype": "text/x-python",
   "name": "python",
   "nbconvert_exporter": "python",
   "pygments_lexer": "ipython3",
   "version": "3.7.3"
  }
 },
 "nbformat": 4,
 "nbformat_minor": 4
}
