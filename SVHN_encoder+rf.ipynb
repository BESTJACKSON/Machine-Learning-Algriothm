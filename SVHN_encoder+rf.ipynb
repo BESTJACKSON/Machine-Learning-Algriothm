{
 "cells": [
  {
   "cell_type": "code",
   "execution_count": 1,
   "metadata": {
    "scrolled": true
   },
   "outputs": [
    {
     "name": "stdout",
     "output_type": "stream",
     "text": [
      "dict_keys(['__header__', '__version__', '__globals__', 'X', 'y'])\n",
      "dict_keys(['__header__', '__version__', '__globals__', 'X', 'y'])\n",
      "x_train shape: (73257, 32, 32, 3)\n",
      "y_train shape: (73257, 1)\n",
      "73257 train samples\n",
      "26032 test samples\n"
     ]
    }
   ],
   "source": [
    "import scipy.io as sio \n",
    "import warnings\n",
    "warnings.filterwarnings('ignore')\n",
    "\n",
    "train = sio.loadmat('./train.mat')\n",
    "test = sio.loadmat('./test.mat')\n",
    "print(train.keys())\n",
    "print(test.keys())\n",
    "\n",
    "\n",
    "x_train = train['X'].swapaxes(0,3).swapaxes(2,3).swapaxes(1,2)\n",
    "y_train = train['y']\n",
    "x_test = test['X'].swapaxes(0,3).swapaxes(2,3).swapaxes(1,2)\n",
    "y_test = test['y']\n",
    "\n",
    "print('x_train shape:', x_train.shape)\n",
    "print('y_train shape:', y_train.shape)\n",
    "print(x_train.shape[0], 'train samples')\n",
    "print(x_test.shape[0], 'test samples')"
   ]
  },
  {
   "cell_type": "code",
   "execution_count": 2,
   "metadata": {},
   "outputs": [
    {
     "name": "stdout",
     "output_type": "stream",
     "text": [
      "x_train shape: (73257, 32, 32)\n",
      "x_test shape: (26032, 32, 32)\n"
     ]
    }
   ],
   "source": [
    "y_train[y_train== 10] = 0\n",
    "y_test[y_test== 10] = 0\n",
    "\n",
    "# 使用一个通道训练模型，方便接PCA\n",
    "x_train = x_train[:,:,:,0]\n",
    "x_test = x_test[:,:,:,0]\n",
    "\n",
    "# img_rows = 32\n",
    "# img_cols = 32\n",
    "\n",
    "# x_train = x_train.reshape(x_train.shape[0], img_rows, img_cols, 1)\n",
    "# x_test = x_test.reshape(x_test.shape[0], img_rows, img_cols, 1)\n",
    "\n",
    "\n",
    "x_train = x_train.astype('float32') / 255.\n",
    "x_test = x_test.astype('float32') / 255.\n",
    "\n",
    "print('x_train shape:', x_train.shape)\n",
    "print('x_test shape:', x_test.shape)"
   ]
  },
  {
   "cell_type": "code",
   "execution_count": 3,
   "metadata": {},
   "outputs": [
    {
     "name": "stderr",
     "output_type": "stream",
     "text": [
      "Using TensorFlow backend.\n"
     ]
    }
   ],
   "source": [
    "from keras.layers import Input, Dense\n",
    "from keras.models import Model\n",
    "\n",
    "import warnings\n",
    "warnings.filterwarnings('ignore')\n",
    "# this is the size of our encoded representations\n",
    "encoding_dim = 32  # 32 floats -> compression of factor 24.5, assuming the input is 784 floats\n",
    "\n",
    "# this is our input placeholder\n",
    "input_img = Input(shape=(1024,))\n",
    "# \"encoded\" is the encoded representation of the input\n",
    "encoded = Dense(encoding_dim, activation='relu')(input_img)\n",
    "# \"decoded\" is the lossy reconstruction of the input\n",
    "decoded = Dense(1024, activation='sigmoid')(encoded)\n",
    "\n",
    "# this model maps an input to its reconstruction\n",
    "autoencoder = Model(input=input_img, output=decoded)"
   ]
  },
  {
   "cell_type": "code",
   "execution_count": 4,
   "metadata": {},
   "outputs": [],
   "source": [
    "# this model maps an input to its encoded representation\n",
    "encoder = Model(input=input_img, output=encoded)\n",
    "\n",
    "# create a placeholder for an encoded (32-dimensional) input\n",
    "encoded_input = Input(shape=(encoding_dim,))\n",
    "\n",
    "# retrieve the last layer of the autoencoder model\n",
    "decoder_layer = autoencoder.layers[-1]\n",
    "\n",
    "# create the decoder model\n",
    "decoder = Model(input=encoded_input, output=decoder_layer(encoded_input))"
   ]
  },
  {
   "cell_type": "code",
   "execution_count": 5,
   "metadata": {},
   "outputs": [],
   "source": [
    "autoencoder.compile(optimizer='adadelta', loss='binary_crossentropy')"
   ]
  },
  {
   "cell_type": "code",
   "execution_count": 6,
   "metadata": {},
   "outputs": [
    {
     "name": "stdout",
     "output_type": "stream",
     "text": [
      "Train on 73257 samples, validate on 26032 samples\n",
      "Epoch 1/50\n",
      "73257/73257 [==============================] - 4s 59us/step - loss: 0.6926 - val_loss: 0.6923\n",
      "Epoch 2/50\n",
      "73257/73257 [==============================] - 6s 78us/step - loss: 0.6914 - val_loss: 0.6912\n",
      "Epoch 3/50\n",
      "73257/73257 [==============================] - 7s 90us/step - loss: 0.6899 - val_loss: 0.6893\n",
      "Epoch 4/50\n",
      "73257/73257 [==============================] - 7s 93us/step - loss: 0.6873 - val_loss: 0.6851\n",
      "Epoch 5/50\n",
      "73257/73257 [==============================] - 6s 76us/step - loss: 0.6831 - val_loss: 0.6786\n",
      "Epoch 6/50\n",
      "73257/73257 [==============================] - 6s 84us/step - loss: 0.6781 - val_loss: 0.6704\n",
      "Epoch 7/50\n",
      "73257/73257 [==============================] - 7s 99us/step - loss: 0.6721 - val_loss: 0.6587\n",
      "Epoch 8/50\n",
      "73257/73257 [==============================] - 8s 110us/step - loss: 0.6646 - val_loss: 0.6483\n",
      "Epoch 9/50\n",
      "73257/73257 [==============================] - 7s 90us/step - loss: 0.6562 - val_loss: 0.6386\n",
      "Epoch 10/50\n",
      "73257/73257 [==============================] - 7s 94us/step - loss: 0.6470 - val_loss: 0.6303\n",
      "Epoch 11/50\n",
      "73257/73257 [==============================] - 5s 74us/step - loss: 0.6392 - val_loss: 0.6272\n",
      "Epoch 12/50\n",
      "73257/73257 [==============================] - 7s 90us/step - loss: 0.6366 - val_loss: 0.6221\n",
      "Epoch 13/50\n",
      "73257/73257 [==============================] - 6s 81us/step - loss: 0.6355 - val_loss: 0.6205\n",
      "Epoch 14/50\n",
      "73257/73257 [==============================] - 6s 76us/step - loss: 0.6335 - val_loss: 0.6237\n",
      "Epoch 15/50\n",
      "73257/73257 [==============================] - 5s 69us/step - loss: 0.6320 - val_loss: 0.6173\n",
      "Epoch 16/50\n",
      "73257/73257 [==============================] - 6s 89us/step - loss: 0.6308 - val_loss: 0.6174\n",
      "Epoch 17/50\n",
      "73257/73257 [==============================] - 6s 89us/step - loss: 0.6297 - val_loss: 0.6127\n",
      "Epoch 18/50\n",
      "73257/73257 [==============================] - 6s 79us/step - loss: 0.6291 - val_loss: 0.6107\n",
      "Epoch 19/50\n",
      "73257/73257 [==============================] - 6s 89us/step - loss: 0.6283 - val_loss: 0.6116\n",
      "Epoch 20/50\n",
      "73257/73257 [==============================] - 6s 79us/step - loss: 0.6274 - val_loss: 0.6161\n",
      "Epoch 21/50\n",
      "73257/73257 [==============================] - 7s 94us/step - loss: 0.6267 - val_loss: 0.6093\n",
      "Epoch 22/50\n",
      "73257/73257 [==============================] - 7s 94us/step - loss: 0.6261 - val_loss: 0.6191\n",
      "Epoch 23/50\n",
      "73257/73257 [==============================] - 7s 97us/step - loss: 0.6253 - val_loss: 0.6072\n",
      "Epoch 24/50\n",
      "73257/73257 [==============================] - 10s 143us/step - loss: 0.6247 - val_loss: 0.6094\n",
      "Epoch 25/50\n",
      "73257/73257 [==============================] - 7s 98us/step - loss: 0.6241 - val_loss: 0.6074\n",
      "Epoch 26/50\n",
      "73257/73257 [==============================] - 6s 84us/step - loss: 0.6235 - val_loss: 0.6068\n",
      "Epoch 27/50\n",
      "73257/73257 [==============================] - 5s 71us/step - loss: 0.6232 - val_loss: 0.6065\n",
      "Epoch 28/50\n",
      "73257/73257 [==============================] - 6s 77us/step - loss: 0.6225 - val_loss: 0.6083\n",
      "Epoch 29/50\n",
      "73257/73257 [==============================] - 6s 77us/step - loss: 0.6218 - val_loss: 0.6059\n",
      "Epoch 30/50\n",
      "73257/73257 [==============================] - 6s 76us/step - loss: 0.6214 - val_loss: 0.6073\n",
      "Epoch 31/50\n",
      "73257/73257 [==============================] - 6s 79us/step - loss: 0.6212 - val_loss: 0.6055\n",
      "Epoch 32/50\n",
      "73257/73257 [==============================] - 5s 72us/step - loss: 0.6207 - val_loss: 0.6091\n",
      "Epoch 33/50\n",
      "73257/73257 [==============================] - 5s 73us/step - loss: 0.6204 - val_loss: 0.6028\n",
      "Epoch 34/50\n",
      "73257/73257 [==============================] - 6s 77us/step - loss: 0.6201 - val_loss: 0.6026\n",
      "Epoch 35/50\n",
      "73257/73257 [==============================] - 5s 71us/step - loss: 0.6196 - val_loss: 0.6028\n",
      "Epoch 36/50\n",
      "73257/73257 [==============================] - 5s 72us/step - loss: 0.6195 - val_loss: 0.6025\n",
      "Epoch 37/50\n",
      "73257/73257 [==============================] - 6s 80us/step - loss: 0.6190 - val_loss: 0.6035\n",
      "Epoch 38/50\n",
      "73257/73257 [==============================] - 5s 71us/step - loss: 0.6186 - val_loss: 0.6016\n",
      "Epoch 39/50\n",
      "73257/73257 [==============================] - 5s 71us/step - loss: 0.6187 - val_loss: 0.6024\n",
      "Epoch 40/50\n",
      "73257/73257 [==============================] - 6s 80us/step - loss: 0.6184 - val_loss: 0.6005\n",
      "Epoch 41/50\n",
      "73257/73257 [==============================] - 5s 70us/step - loss: 0.6179 - val_loss: 0.6006\n",
      "Epoch 42/50\n",
      "73257/73257 [==============================] - 5s 71us/step - loss: 0.6176 - val_loss: 0.6005\n",
      "Epoch 43/50\n",
      "73257/73257 [==============================] - 6s 78us/step - loss: 0.6173 - val_loss: 0.6012\n",
      "Epoch 44/50\n",
      "73257/73257 [==============================] - 5s 71us/step - loss: 0.6171 - val_loss: 0.6002 loss: 0.6\n",
      "Epoch 45/50\n",
      "73257/73257 [==============================] - 5s 71us/step - loss: 0.6170 - val_loss: 0.5996\n",
      "Epoch 46/50\n",
      "73257/73257 [==============================] - 6s 80us/step - loss: 0.6165 - val_loss: 0.6003\n",
      "Epoch 47/50\n",
      "73257/73257 [==============================] - 5s 71us/step - loss: 0.6165 - val_loss: 0.6001\n",
      "Epoch 48/50\n",
      "73257/73257 [==============================] - 5s 71us/step - loss: 0.6160 - val_loss: 0.6013\n",
      "Epoch 49/50\n",
      "73257/73257 [==============================] - 6s 78us/step - loss: 0.6158 - val_loss: 0.5989\n",
      "Epoch 50/50\n",
      "73257/73257 [==============================] - 5s 71us/step - loss: 0.6154 - val_loss: 0.5992\n"
     ]
    },
    {
     "data": {
      "text/plain": [
       "<keras.callbacks.callbacks.History at 0x1db18b09cf8>"
      ]
     },
     "execution_count": 6,
     "metadata": {},
     "output_type": "execute_result"
    }
   ],
   "source": [
    "from keras.datasets import mnist\n",
    "import numpy as np\n",
    "\n",
    "x_train = x_train.reshape((len(x_train), np.prod(x_train.shape[1:])))\n",
    "x_test = x_test.reshape((len(x_test), np.prod(x_test.shape[1:])))\n",
    "\n",
    "autoencoder.fit(x_train, x_train,\n",
    "                nb_epoch=50,\n",
    "                batch_size=256,\n",
    "                shuffle=True,\n",
    "                validation_data=(x_test, x_test))"
   ]
  },
  {
   "cell_type": "code",
   "execution_count": 7,
   "metadata": {},
   "outputs": [
    {
     "data": {
      "image/png": "[encoded data removed]",
      "text/plain": [
       "<Figure size 1440x288 with 20 Axes>"
      ]
     },
     "metadata": {
      "needs_background": "light"
     },
     "output_type": "display_data"
    }
   ],
   "source": [
    "\n",
    "import matplotlib.pyplot as plt\n",
    "\n",
    "encoded_imgs = encoder.predict(x_train)\n",
    "decoded_imgs = decoder.predict(encoded_imgs)\n",
    "\n",
    "\n",
    "n = 10  \n",
    "plt.figure(figsize=(20, 4))\n",
    "for i in range(n):\n",
    "    # display original\n",
    "    ax = plt.subplot(2,n,i+1)\n",
    "    plt.imshow(x_train[i].reshape(32, 32))\n",
    "    plt.gray()\n",
    "    ax.get_xaxis().set_visible(False)\n",
    "    ax.get_yaxis().set_visible(False)\n",
    "\n",
    "    # display reconstruction\n",
    "    ax = plt.subplot(2,n,i+1+n)\n",
    "    plt.imshow(decoded_imgs[i].reshape(32, 32))\n",
    "    plt.gray()\n",
    "    ax.get_xaxis().set_visible(False)\n",
    "    ax.get_yaxis().set_visible(False)\n",
    "plt.show()"
   ]
  },
  {
   "cell_type": "code",
   "execution_count": 8,
   "metadata": {},
   "outputs": [],
   "source": [
    "x_train_encoded = encoder.predict(x_train)\n",
    "x_test_encoded = encoder.predict(x_test)"
   ]
  },
  {
   "cell_type": "code",
   "execution_count": 9,
   "metadata": {},
   "outputs": [
    {
     "data": {
      "text/plain": [
       "RandomForestClassifier(bootstrap=True, ccp_alpha=0.0, class_weight=None,\n",
       "                       criterion='gini', max_depth=None, max_features='auto',\n",
       "                       max_leaf_nodes=None, max_samples=None,\n",
       "                       min_impurity_decrease=0.0, min_impurity_split=None,\n",
       "                       min_samples_leaf=1, min_samples_split=2,\n",
       "                       min_weight_fraction_leaf=0.0, n_estimators=100,\n",
       "                       n_jobs=None, oob_score=False, random_state=None,\n",
       "                       verbose=0, warm_start=False)"
      ]
     },
     "execution_count": 9,
     "metadata": {},
     "output_type": "execute_result"
    }
   ],
   "source": [
    "from sklearn.ensemble import RandomForestClassifier\n",
    "\n",
    "GBDT = RandomForestClassifier()\n",
    "GBDT.fit(x_train_encoded,y_train)"
   ]
  },
  {
   "cell_type": "code",
   "execution_count": 10,
   "metadata": {},
   "outputs": [
    {
     "name": "stdout",
     "output_type": "stream",
     "text": [
      "[[ 673  250  149   78  147   81  192   23   64   87]\n",
      " [  70 4157  233  179  281   48   41   67   12   11]\n",
      " [  86  877 2185  268  319   67   87  161   43   56]\n",
      " [  80  730  541  829  374  126   38   72   23   69]\n",
      " [  63  506   97   68 1632   19   78   14   23   23]\n",
      " [ 144  473  332  273  393  314  178   37  139  101]\n",
      " [ 253  347  119   48  317   92  644   17  108   32]\n",
      " [  31  610  501  138  111   17   33  551   16   11]\n",
      " [ 188  250  176   46  286  134  314    9  164   93]\n",
      " [ 203  271  220   81  337   93   91   33   99  167]]\n",
      "              precision    recall  f1-score   support\n",
      "\n",
      "           0       0.38      0.39      0.38      1744\n",
      "           1       0.49      0.82      0.61      5099\n",
      "           2       0.48      0.53      0.50      4149\n",
      "           3       0.41      0.29      0.34      2882\n",
      "           4       0.39      0.65      0.49      2523\n",
      "           5       0.32      0.13      0.19      2384\n",
      "           6       0.38      0.33      0.35      1977\n",
      "           7       0.56      0.27      0.37      2019\n",
      "           8       0.24      0.10      0.14      1660\n",
      "           9       0.26      0.10      0.15      1595\n",
      "\n",
      "    accuracy                           0.43     26032\n",
      "   macro avg       0.39      0.36      0.35     26032\n",
      "weighted avg       0.41      0.43      0.40     26032\n",
      "\n"
     ]
    }
   ],
   "source": [
    "y_pred = GBDT.predict(x_test_encoded)\n",
    "from sklearn.metrics import classification_report,confusion_matrix\n",
    "print(confusion_matrix(y_test,y_pred))\n",
    "print(classification_report(y_test,y_pred))"
   ]
  },
  {
   "cell_type": "code",
   "execution_count": null,
   "metadata": {},
   "outputs": [],
   "source": []
  }
 ],
 "metadata": {
  "kernelspec": {
   "display_name": "Python 3",
   "language": "python",
   "name": "python3"
  },
  "language_info": {
   "codemirror_mode": {
    "name": "ipython",
    "version": 3
   },
   "file_extension": ".py",
   "mimetype": "text/x-python",
   "name": "python",
   "nbconvert_exporter": "python",
   "pygments_lexer": "ipython3",
   "version": "3.7.3"
  }
 },
 "nbformat": 4,
 "nbformat_minor": 2
}
