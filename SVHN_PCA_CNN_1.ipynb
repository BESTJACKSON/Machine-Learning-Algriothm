{
 "cells": [
  {
   "cell_type": "code",
   "execution_count": 1,
   "metadata": {
    "scrolled": true
   },
   "outputs": [
    {
     "name": "stdout",
     "output_type": "stream",
     "text": [
      "dict_keys(['y', '__header__', 'X', '__globals__', '__version__'])\n",
      "dict_keys(['y', '__header__', 'X', '__globals__', '__version__'])\n"
     ]
    }
   ],
   "source": [
    "import scipy.io as sio \n",
    "import warnings\n",
    "warnings.filterwarnings('ignore')\n",
    "\n",
    "train = sio.loadmat('./train.mat')\n",
    "test = sio.loadmat('./test.mat')\n",
    "print(train.keys())\n",
    "print(test.keys())\n"
   ]
  },
  {
   "cell_type": "code",
   "execution_count": 2,
   "metadata": {
    "scrolled": true
   },
   "outputs": [
    {
     "name": "stdout",
     "output_type": "stream",
     "text": [
      "x_train shape: (73257, 32, 32, 3)\n",
      "y_train shape: (73257, 1)\n",
      "73257 train samples\n",
      "26032 test samples\n"
     ]
    }
   ],
   "source": [
    "x_train = train['X'].swapaxes(0,3).swapaxes(2,3).swapaxes(1,2)\n",
    "y_train = train['y']\n",
    "x_test = test['X'].swapaxes(0,3).swapaxes(2,3).swapaxes(1,2)\n",
    "y_test = test['y']\n",
    "\n",
    "print('x_train shape:', x_train.shape)\n",
    "print('y_train shape:', y_train.shape)\n",
    "print(x_train.shape[0], 'train samples')\n",
    "print(x_test.shape[0], 'test samples')"
   ]
  },
  {
   "cell_type": "code",
   "execution_count": 3,
   "metadata": {},
   "outputs": [],
   "source": [
    "y_train[y_train== 10] = 0\n",
    "y_test[y_test== 10] = 0"
   ]
  },
  {
   "cell_type": "code",
   "execution_count": 4,
   "metadata": {},
   "outputs": [
    {
     "name": "stdout",
     "output_type": "stream",
     "text": [
      "x_train shape: (73257, 32, 32, 1)\n",
      "x_test shape: (26032, 32, 32, 1)\n"
     ]
    }
   ],
   "source": [
    "# 使用一个通道训练模型，方便接PCA\n",
    "x_train = x_train[:,:,:,0]\n",
    "x_test = x_test[:,:,:,0]\n",
    "\n",
    "img_rows = 32\n",
    "img_cols = 32\n",
    "\n",
    "x_train = x_train.reshape(x_train.shape[0], img_rows, img_cols, 1)\n",
    "x_test = x_test.reshape(x_test.shape[0], img_rows, img_cols, 1)\n",
    "\n",
    "print('x_train shape:', x_train.shape)\n",
    "print('x_test shape:', x_test.shape)\n"
   ]
  },
  {
   "cell_type": "code",
   "execution_count": 5,
   "metadata": {},
   "outputs": [],
   "source": [
    "x_train = x_train.reshape(73257,1024)\n",
    "x_test = x_test.reshape(26032,1024)"
   ]
  },
  {
   "cell_type": "code",
   "execution_count": 6,
   "metadata": {},
   "outputs": [
    {
     "name": "stdout",
     "output_type": "stream",
     "text": [
      "x_train_pca.shape (73257, 256)\n",
      "x_test_pca.shape (26032, 256)\n"
     ]
    }
   ],
   "source": [
    "from sklearn.decomposition import PCA\n",
    "\n",
    "n_components = 256\n",
    "x_train_pca = PCA(n_components = n_components).fit_transform(x_train)\n",
    "x_test_pca = PCA(n_components = n_components).fit_transform(x_test)\n",
    "\n",
    "print('x_train_pca.shape',x_train_pca.shape)\n",
    "print('x_test_pca.shape',x_test_pca.shape)"
   ]
  },
  {
   "cell_type": "code",
   "execution_count": 7,
   "metadata": {},
   "outputs": [
    {
     "name": "stdout",
     "output_type": "stream",
     "text": [
      "x_train_pca shape: (73257, 16, 16, 1)\n",
      "x_test_pca shape: (26032, 16, 16, 1)\n"
     ]
    }
   ],
   "source": [
    "x_train_pca = x_train_pca.reshape(x_train_pca.shape[0], 16, 16, 1)\n",
    "x_test_pca = x_test_pca.reshape(x_test_pca.shape[0], 16, 16, 1)\n",
    "\n",
    "print('x_train_pca shape:', x_train_pca.shape)\n",
    "print('x_test_pca shape:', x_test_pca.shape)\n"
   ]
  },
  {
   "cell_type": "code",
   "execution_count": 8,
   "metadata": {},
   "outputs": [
    {
     "name": "stderr",
     "output_type": "stream",
     "text": [
      "Using TensorFlow backend.\n"
     ]
    }
   ],
   "source": [
    "import keras\n",
    "from keras.models import Sequential\n",
    "from keras.layers import Dense, Dropout, Activation, Flatten\n",
    "from keras.layers import Conv2D, MaxPooling2D\n",
    "import os\n",
    "import warnings\n",
    "warnings.filterwarnings('ignore')\n",
    "\n",
    "batch_size = 32\n",
    "num_classes = 10\n",
    "epochs = 20"
   ]
  },
  {
   "cell_type": "code",
   "execution_count": 9,
   "metadata": {},
   "outputs": [
    {
     "name": "stdout",
     "output_type": "stream",
     "text": [
      "y_train shape: (73257, 10)\n",
      "y_test shape: (26032, 10)\n"
     ]
    }
   ],
   "source": [
    "num_classes = 10\n",
    "\n",
    "y_train = keras.utils.to_categorical(y_train, num_classes)\n",
    "y_test = keras.utils.to_categorical(y_test, num_classes)\n",
    "\n",
    "print('y_train shape:', y_train.shape)\n",
    "print('y_test shape:', y_test.shape)"
   ]
  },
  {
   "cell_type": "code",
   "execution_count": 10,
   "metadata": {},
   "outputs": [],
   "source": [
    "model = Sequential()\n",
    "model.add(Conv2D(32, (3, 3), padding='same',\n",
    "                 input_shape=x_train_pca.shape[1:]))\n",
    "model.add(Activation('relu'))\n",
    "model.add(Conv2D(32, (3, 3)))\n",
    "model.add(Activation('relu'))\n",
    "model.add(MaxPooling2D(pool_size=(2, 2)))\n",
    "model.add(Dropout(0.25))\n",
    "\n",
    "model.add(Conv2D(64, (3, 3), padding='same'))\n",
    "model.add(Activation('relu'))\n",
    "model.add(Conv2D(64, (3, 3)))\n",
    "model.add(Activation('relu'))\n",
    "model.add(MaxPooling2D(pool_size=(2, 2)))\n",
    "model.add(Dropout(0.25))\n",
    "\n",
    "model.add(Flatten())\n",
    "model.add(Dense(512))\n",
    "model.add(Activation('relu'))\n",
    "model.add(Dropout(0.5))\n",
    "model.add(Dense(num_classes))\n",
    "model.add(Activation('softmax'))\n",
    "\n",
    "# initiate RMSprop optimizer\n",
    "opt = keras.optimizers.RMSprop(lr=0.0001, decay=1e-6)\n",
    "\n",
    "# Let's train the model using RMSprop\n",
    "model.compile(loss='categorical_crossentropy',\n",
    "              optimizer=opt,\n",
    "              metrics=['accuracy'])\n"
   ]
  },
  {
   "cell_type": "code",
   "execution_count": 11,
   "metadata": {},
   "outputs": [],
   "source": [
    "#写一个LossHistory类，保存loss和acc\n",
    "class LossHistory(keras.callbacks.Callback):\n",
    "    def on_train_begin(self, logs={}):\n",
    "        self.losses = {'batch':[], 'epoch':[]}\n",
    "        self.accuracy = {'batch':[], 'epoch':[]}\n",
    "        self.val_loss = {'batch':[], 'epoch':[]}\n",
    "        self.val_acc = {'batch':[], 'epoch':[]}\n",
    "\n",
    "    def on_batch_end(self, batch, logs={}):\n",
    "        self.losses['batch'].append(logs.get('loss'))\n",
    "        self.accuracy['batch'].append(logs.get('acc'))\n",
    "        self.val_loss['batch'].append(logs.get('val_loss'))\n",
    "        self.val_acc['batch'].append(logs.get('val_acc'))\n",
    "\n",
    "    def on_epoch_end(self, batch, logs={}):\n",
    "        self.losses['epoch'].append(logs.get('loss'))\n",
    "        self.accuracy['epoch'].append(logs.get('acc'))\n",
    "        self.val_loss['epoch'].append(logs.get('val_loss'))\n",
    "        self.val_acc['epoch'].append(logs.get('val_acc'))\n",
    "\n",
    "    def loss_plot(self, loss_type):\n",
    "        iters = range(len(self.losses[loss_type]))\n",
    "        plt.figure()\n",
    "        # acc\n",
    "        plt.plot(iters, self.accuracy[loss_type], 'r', label='train acc')\n",
    "        # loss\n",
    "        plt.plot(iters, self.losses[loss_type], 'g', label='train loss')\n",
    "        if loss_type == 'epoch':\n",
    "            # val_acc\n",
    "            plt.plot(iters, self.val_acc[loss_type], 'b', label='val acc')\n",
    "            # val_loss\n",
    "            plt.plot(iters, self.val_loss[loss_type], 'k', label='val loss')\n",
    "        plt.grid(True)\n",
    "        plt.xlabel(loss_type)\n",
    "        plt.ylabel('acc-loss')\n",
    "        plt.legend(loc=\"upper right\")\n",
    "        plt.show()"
   ]
  },
  {
   "cell_type": "code",
   "execution_count": 12,
   "metadata": {
    "scrolled": true
   },
   "outputs": [
    {
     "name": "stdout",
     "output_type": "stream",
     "text": [
      "WARNING:tensorflow:Variable *= will be deprecated. Use `var.assign(var * other)` if you want assignment to the variable value or `x = x * y` if you want a new python Tensor object.\n",
      "Train on 73257 samples, validate on 26032 samples\n",
      "Epoch 1/20\n",
      "73257/73257 [==============================] - 24s 321us/step - loss: 2.3715 - acc: 0.1847 - val_loss: 2.2375 - val_acc: 0.2101\n",
      "Epoch 2/20\n",
      "73257/73257 [==============================] - 23s 316us/step - loss: 2.1543 - acc: 0.2277 - val_loss: 2.2614 - val_acc: 0.1959\n",
      "Epoch 3/20\n",
      "73257/73257 [==============================] - 23s 320us/step - loss: 2.0958 - acc: 0.2459 - val_loss: 2.2919 - val_acc: 0.1633\n",
      "Epoch 4/20\n",
      "73257/73257 [==============================] - 23s 310us/step - loss: 2.0385 - acc: 0.2742 - val_loss: 2.3325 - val_acc: 0.1740\n",
      "Epoch 5/20\n",
      "73257/73257 [==============================] - 23s 314us/step - loss: 1.9857 - acc: 0.2973 - val_loss: 2.3696 - val_acc: 0.1690\n",
      "Epoch 6/20\n",
      "73257/73257 [==============================] - 22s 301us/step - loss: 1.9355 - acc: 0.3136 - val_loss: 2.3952 - val_acc: 0.1662\n",
      "Epoch 7/20\n",
      "73257/73257 [==============================] - 21s 293us/step - loss: 1.8919 - acc: 0.3325 - val_loss: 2.4182 - val_acc: 0.1611\n",
      "Epoch 8/20\n",
      "73257/73257 [==============================] - 25s 346us/step - loss: 1.8566 - acc: 0.3444 - val_loss: 2.4234 - val_acc: 0.1578\n",
      "Epoch 9/20\n",
      "73257/73257 [==============================] - 20s 270us/step - loss: 1.8248 - acc: 0.3588 - val_loss: 2.4790 - val_acc: 0.1622\n",
      "Epoch 10/20\n",
      "73257/73257 [==============================] - 22s 298us/step - loss: 1.8063 - acc: 0.3692 - val_loss: 2.4301 - val_acc: 0.1529\n",
      "Epoch 11/20\n",
      "73257/73257 [==============================] - 19s 263us/step - loss: 1.7782 - acc: 0.3793 - val_loss: 2.4604 - val_acc: 0.1573\n",
      "Epoch 12/20\n",
      "73257/73257 [==============================] - 21s 288us/step - loss: 1.7613 - acc: 0.3875 - val_loss: 2.4855 - val_acc: 0.1572\n",
      "Epoch 13/20\n",
      "73257/73257 [==============================] - 23s 319us/step - loss: 1.7406 - acc: 0.3945 - val_loss: 2.5204 - val_acc: 0.1528\n",
      "Epoch 14/20\n",
      "73257/73257 [==============================] - 22s 302us/step - loss: 1.7245 - acc: 0.4021 - val_loss: 2.5296 - val_acc: 0.1568\n",
      "Epoch 15/20\n",
      "73257/73257 [==============================] - 23s 319us/step - loss: 1.7121 - acc: 0.4047 - val_loss: 2.4644 - val_acc: 0.1548\n",
      "Epoch 16/20\n",
      "73257/73257 [==============================] - 21s 290us/step - loss: 1.6979 - acc: 0.4103 - val_loss: 2.4917 - val_acc: 0.1505\n",
      "Epoch 17/20\n",
      "73257/73257 [==============================] - 24s 324us/step - loss: 1.6857 - acc: 0.4168 - val_loss: 2.5208 - val_acc: 0.1557\n",
      "Epoch 18/20\n",
      "73257/73257 [==============================] - 22s 306us/step - loss: 1.6732 - acc: 0.4206 - val_loss: 2.5406 - val_acc: 0.1536\n",
      "Epoch 19/20\n",
      "73257/73257 [==============================] - 22s 298us/step - loss: 1.6601 - acc: 0.4280 - val_loss: 2.5260 - val_acc: 0.1539\n",
      "Epoch 20/20\n",
      "73257/73257 [==============================] - 22s 305us/step - loss: 1.6575 - acc: 0.4291 - val_loss: 2.5271 - val_acc: 0.1597\n",
      "26032/26032 [==============================] - 2s 94us/step\n",
      "Test loss: 2.527119305358024\n",
      "Test accuracy: 0.15972649047326368\n"
     ]
    }
   ],
   "source": [
    "x_train = x_train.astype('float32')\n",
    "x_test = x_test.astype('float32')\n",
    "x_train /= 255\n",
    "x_test /= 255\n",
    "\n",
    "history = LossHistory()\n",
    "\n",
    "model.fit(x_train_pca, y_train,\n",
    "          batch_size=batch_size,\n",
    "          epochs=epochs,\n",
    "          validation_data=(x_test_pca, y_test),\n",
    "          shuffle=True,\n",
    "         callbacks=[history])\n",
    "\n",
    "# Score trained model.\n",
    "scores = model.evaluate(x_test_pca, y_test, verbose=1)\n",
    "print('Test loss:', scores[0])\n",
    "print('Test accuracy:', scores[1])\n"
   ]
  },
  {
   "cell_type": "code",
   "execution_count": 13,
   "metadata": {},
   "outputs": [
    {
     "data": {
      "image/png": "[encoded data removed]",
      "text/plain": [
       "<Figure size 432x288 with 1 Axes>"
      ]
     },
     "metadata": {
      "needs_background": "light"
     },
     "output_type": "display_data"
    }
   ],
   "source": [
    "import matplotlib.pyplot as plt\n",
    "%matplotlib inline\n",
    "\n",
    "history.loss_plot('epoch')"
   ]
  },
  {
   "cell_type": "code",
   "execution_count": null,
   "metadata": {
    "collapsed": true,
    "jupyter": {
     "outputs_hidden": true
    }
   },
   "outputs": [],
   "source": []
  }
 ],
 "metadata": {
  "kernelspec": {
   "display_name": "Python 3",
   "language": "python",
   "name": "python3"
  },
  "language_info": {
   "codemirror_mode": {
    "name": "ipython",
    "version": 3
   },
   "file_extension": ".py",
   "mimetype": "text/x-python",
   "name": "python",
   "nbconvert_exporter": "python",
   "pygments_lexer": "ipython3",
   "version": "3.7.3"
  }
 },
 "nbformat": 4,
 "nbformat_minor": 4
}
